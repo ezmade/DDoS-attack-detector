{
 "cells": [
  {
   "cell_type": "code",
   "execution_count": 2,
   "metadata": {},
   "outputs": [
    {
     "name": "stderr",
     "output_type": "stream",
     "text": [
      "/home/ezmade/anaconda3/lib/python3.7/importlib/_bootstrap.py:219: RuntimeWarning: numpy.ufunc size changed, may indicate binary incompatibility. Expected 192 from C header, got 216 from PyObject\n",
      "  return f(*args, **kwds)\n",
      "/home/ezmade/anaconda3/lib/python3.7/importlib/_bootstrap.py:219: RuntimeWarning: numpy.ufunc size changed, may indicate binary incompatibility. Expected 192 from C header, got 216 from PyObject\n",
      "  return f(*args, **kwds)\n",
      "/home/ezmade/anaconda3/lib/python3.7/importlib/_bootstrap.py:219: RuntimeWarning: numpy.ufunc size changed, may indicate binary incompatibility. Expected 192 from C header, got 216 from PyObject\n",
      "  return f(*args, **kwds)\n",
      "/home/ezmade/anaconda3/lib/python3.7/site-packages/statsmodels/tools/_testing.py:19: FutureWarning: pandas.util.testing is deprecated. Use the functions in the public API at pandas.testing instead.\n",
      "  import pandas.util.testing as tm\n",
      "/home/ezmade/anaconda3/lib/python3.7/importlib/_bootstrap.py:219: RuntimeWarning: numpy.ufunc size changed, may indicate binary incompatibility. Expected 192 from C header, got 216 from PyObject\n",
      "  return f(*args, **kwds)\n"
     ]
    }
   ],
   "source": [
    "import pandas as pd\n",
    "import seaborn as sns\n",
    "from matplotlib import pyplot as plt"
   ]
  },
  {
   "cell_type": "code",
   "execution_count": 16,
   "metadata": {},
   "outputs": [],
   "source": [
    "df = pd.read_csv('Combined.csv')"
   ]
  },
  {
   "cell_type": "code",
   "execution_count": 22,
   "metadata": {},
   "outputs": [
    {
     "data": {
      "text/html": [
       "<div>\n",
       "<style scoped>\n",
       "    .dataframe tbody tr th:only-of-type {\n",
       "        vertical-align: middle;\n",
       "    }\n",
       "\n",
       "    .dataframe tbody tr th {\n",
       "        vertical-align: top;\n",
       "    }\n",
       "\n",
       "    .dataframe thead th {\n",
       "        text-align: right;\n",
       "    }\n",
       "</style>\n",
       "<table border=\"1\" class=\"dataframe\">\n",
       "  <thead>\n",
       "    <tr style=\"text-align: right;\">\n",
       "      <th></th>\n",
       "      <th>Highest Layer</th>\n",
       "      <th>Transport Layer</th>\n",
       "      <th>Source IP</th>\n",
       "      <th>Dest IP</th>\n",
       "      <th>Source Port</th>\n",
       "      <th>Dest Port</th>\n",
       "      <th>Packet Length</th>\n",
       "      <th>Packets/Time</th>\n",
       "      <th>target</th>\n",
       "    </tr>\n",
       "  </thead>\n",
       "  <tbody>\n",
       "    <tr>\n",
       "      <th>0</th>\n",
       "      <td>QUIC</td>\n",
       "      <td>UDP</td>\n",
       "      <td>1</td>\n",
       "      <td>192.168.1.1</td>\n",
       "      <td>64142</td>\n",
       "      <td>80</td>\n",
       "      <td>60</td>\n",
       "      <td>9.113772</td>\n",
       "      <td>1</td>\n",
       "    </tr>\n",
       "    <tr>\n",
       "      <th>1</th>\n",
       "      <td>QUIC</td>\n",
       "      <td>UDP</td>\n",
       "      <td>1</td>\n",
       "      <td>192.168.1.1</td>\n",
       "      <td>64143</td>\n",
       "      <td>80</td>\n",
       "      <td>60</td>\n",
       "      <td>9.131884</td>\n",
       "      <td>1</td>\n",
       "    </tr>\n",
       "    <tr>\n",
       "      <th>2</th>\n",
       "      <td>QUIC</td>\n",
       "      <td>UDP</td>\n",
       "      <td>1</td>\n",
       "      <td>192.168.1.1</td>\n",
       "      <td>64143</td>\n",
       "      <td>80</td>\n",
       "      <td>60</td>\n",
       "      <td>9.150164</td>\n",
       "      <td>1</td>\n",
       "    </tr>\n",
       "    <tr>\n",
       "      <th>3</th>\n",
       "      <td>QUIC</td>\n",
       "      <td>UDP</td>\n",
       "      <td>1</td>\n",
       "      <td>192.168.1.1</td>\n",
       "      <td>64142</td>\n",
       "      <td>80</td>\n",
       "      <td>60</td>\n",
       "      <td>9.168443</td>\n",
       "      <td>1</td>\n",
       "    </tr>\n",
       "    <tr>\n",
       "      <th>4</th>\n",
       "      <td>QUIC</td>\n",
       "      <td>UDP</td>\n",
       "      <td>1</td>\n",
       "      <td>192.168.1.1</td>\n",
       "      <td>64142</td>\n",
       "      <td>80</td>\n",
       "      <td>60</td>\n",
       "      <td>9.186721</td>\n",
       "      <td>1</td>\n",
       "    </tr>\n",
       "  </tbody>\n",
       "</table>\n",
       "</div>"
      ],
      "text/plain": [
       "  Highest Layer Transport Layer  Source IP      Dest IP  Source Port  \\\n",
       "0          QUIC             UDP          1  192.168.1.1        64142   \n",
       "1          QUIC             UDP          1  192.168.1.1        64143   \n",
       "2          QUIC             UDP          1  192.168.1.1        64143   \n",
       "3          QUIC             UDP          1  192.168.1.1        64142   \n",
       "4          QUIC             UDP          1  192.168.1.1        64142   \n",
       "\n",
       "   Dest Port  Packet Length  Packets/Time  target  \n",
       "0         80             60      9.113772       1  \n",
       "1         80             60      9.131884       1  \n",
       "2         80             60      9.150164       1  \n",
       "3         80             60      9.168443       1  \n",
       "4         80             60      9.186721       1  "
      ]
     },
     "execution_count": 22,
     "metadata": {},
     "output_type": "execute_result"
    }
   ],
   "source": [
    "df.head()"
   ]
  },
  {
   "cell_type": "code",
   "execution_count": 14,
   "metadata": {},
   "outputs": [
    {
     "data": {
      "text/plain": [
       "<matplotlib.axes._subplots.AxesSubplot at 0x7f181b093090>"
      ]
     },
     "execution_count": 14,
     "metadata": {},
     "output_type": "execute_result"
    },
    {
     "data": {
      "image/png": "[encoded data removed]",
      "text/plain": [
       "<Figure size 432x288 with 2 Axes>"
      ]
     },
     "metadata": {
      "needs_background": "light"
     },
     "output_type": "display_data"
    }
   ],
   "source": [
    "sns.heatmap(df.corr(method=\"kendall\"))"
   ]
  },
  {
   "cell_type": "code",
   "execution_count": null,
   "metadata": {},
   "outputs": [],
   "source": []
  }
 ],
 "metadata": {
  "kernelspec": {
   "display_name": "Python 3",
   "language": "python",
   "name": "python3"
  },
  "language_info": {
   "codemirror_mode": {
    "name": "ipython",
    "version": 3
   },
   "file_extension": ".py",
   "mimetype": "text/x-python",
   "name": "python",
   "nbconvert_exporter": "python",
   "pygments_lexer": "ipython3",
   "version": "3.7.4"
  }
 },
 "nbformat": 4,
 "nbformat_minor": 4
}
